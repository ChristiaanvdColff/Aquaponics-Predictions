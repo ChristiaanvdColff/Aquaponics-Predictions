{
 "cells": [
  {
   "cell_type": "code",
   "execution_count": 2,
   "metadata": {},
   "outputs": [],
   "source": [
    "#importing neeeded libraries\n",
    "import numpy as np\n",
    "import pandas as pd\n",
    "import matplotlib.pyplot as plt\n",
    "import seaborn as sns\n",
    "import os\n",
    "import tensorflow as tf"
   ]
  },
  {
   "cell_type": "code",
   "execution_count": 3,
   "metadata": {},
   "outputs": [
    {
     "name": "stderr",
     "output_type": "stream",
     "text": [
      "C:\\Users\\chris\\AppData\\Local\\Temp\\ipykernel_16868\\1034627056.py:2: DtypeWarning: Columns (13) have mixed types. Specify dtype option on import or set low_memory=False.\n",
      "  df = pd.read_csv('IoTpond7.csv')\n"
     ]
    },
    {
     "data": {
      "text/html": [
       "<div>\n",
       "<style scoped>\n",
       "    .dataframe tbody tr th:only-of-type {\n",
       "        vertical-align: middle;\n",
       "    }\n",
       "\n",
       "    .dataframe tbody tr th {\n",
       "        vertical-align: top;\n",
       "    }\n",
       "\n",
       "    .dataframe thead th {\n",
       "        text-align: right;\n",
       "    }\n",
       "</style>\n",
       "<table border=\"1\" class=\"dataframe\">\n",
       "  <thead>\n",
       "    <tr style=\"text-align: right;\">\n",
       "      <th></th>\n",
       "      <th>created_at</th>\n",
       "      <th>Date</th>\n",
       "      <th>entry_id</th>\n",
       "      <th>temperature(C)</th>\n",
       "      <th>turbidity (NTU)</th>\n",
       "      <th>Dissolved Oxygen (g/ml)</th>\n",
       "      <th>PH</th>\n",
       "      <th>ammonia(g/ml)</th>\n",
       "      <th>nitrate(g/ml)</th>\n",
       "      <th>Fish_length(cm)</th>\n",
       "      <th>Fish_weight(g)</th>\n",
       "      <th>Unnamed: 11</th>\n",
       "      <th>Unnamed: 12</th>\n",
       "      <th>Unnamed: 13</th>\n",
       "    </tr>\n",
       "  </thead>\n",
       "  <tbody>\n",
       "    <tr>\n",
       "      <th>0</th>\n",
       "      <td>2021-06-18 13:02:10 CET</td>\n",
       "      <td>18-06-21</td>\n",
       "      <td>1</td>\n",
       "      <td>25.3750</td>\n",
       "      <td>41</td>\n",
       "      <td>40.048</td>\n",
       "      <td>8.17490</td>\n",
       "      <td>780.03149</td>\n",
       "      <td>1218</td>\n",
       "      <td>6.772857</td>\n",
       "      <td>3.037143</td>\n",
       "      <td>NaN</td>\n",
       "      <td>NaN</td>\n",
       "      <td>NaN</td>\n",
       "    </tr>\n",
       "    <tr>\n",
       "      <th>1</th>\n",
       "      <td>2021-06-18 13:02:30 CET</td>\n",
       "      <td>18-06-21</td>\n",
       "      <td>2</td>\n",
       "      <td>25.3750</td>\n",
       "      <td>41</td>\n",
       "      <td>40.048</td>\n",
       "      <td>8.13858</td>\n",
       "      <td>0.14989</td>\n",
       "      <td>1968</td>\n",
       "      <td>6.772857</td>\n",
       "      <td>3.037143</td>\n",
       "      <td>NaN</td>\n",
       "      <td>NaN</td>\n",
       "      <td>NaN</td>\n",
       "    </tr>\n",
       "    <tr>\n",
       "      <th>2</th>\n",
       "      <td>2021-06-18 13:02:50 CET</td>\n",
       "      <td>18-06-21</td>\n",
       "      <td>3</td>\n",
       "      <td>25.3125</td>\n",
       "      <td>41</td>\n",
       "      <td>40.048</td>\n",
       "      <td>8.34740</td>\n",
       "      <td>0.24039</td>\n",
       "      <td>1879</td>\n",
       "      <td>6.772857</td>\n",
       "      <td>3.037143</td>\n",
       "      <td>NaN</td>\n",
       "      <td>NaN</td>\n",
       "      <td>NaN</td>\n",
       "    </tr>\n",
       "    <tr>\n",
       "      <th>3</th>\n",
       "      <td>2021-06-18 13:03:10 CET</td>\n",
       "      <td>18-06-21</td>\n",
       "      <td>4</td>\n",
       "      <td>25.3125</td>\n",
       "      <td>41</td>\n",
       "      <td>40.048</td>\n",
       "      <td>8.17490</td>\n",
       "      <td>0.31723</td>\n",
       "      <td>1792</td>\n",
       "      <td>6.772857</td>\n",
       "      <td>3.037143</td>\n",
       "      <td>NaN</td>\n",
       "      <td>NaN</td>\n",
       "      <td>NaN</td>\n",
       "    </tr>\n",
       "    <tr>\n",
       "      <th>4</th>\n",
       "      <td>2021-06-18 13:03:40 CET</td>\n",
       "      <td>18-06-21</td>\n",
       "      <td>5</td>\n",
       "      <td>25.3750</td>\n",
       "      <td>31</td>\n",
       "      <td>40.048</td>\n",
       "      <td>8.14766</td>\n",
       "      <td>1.02537</td>\n",
       "      <td>1934</td>\n",
       "      <td>6.772857</td>\n",
       "      <td>3.037143</td>\n",
       "      <td>NaN</td>\n",
       "      <td>NaN</td>\n",
       "      <td>NaN</td>\n",
       "    </tr>\n",
       "  </tbody>\n",
       "</table>\n",
       "</div>"
      ],
      "text/plain": [
       "                created_at      Date  entry_id  temperature(C)  \\\n",
       "0  2021-06-18 13:02:10 CET  18-06-21         1         25.3750   \n",
       "1  2021-06-18 13:02:30 CET  18-06-21         2         25.3750   \n",
       "2  2021-06-18 13:02:50 CET  18-06-21         3         25.3125   \n",
       "3  2021-06-18 13:03:10 CET  18-06-21         4         25.3125   \n",
       "4  2021-06-18 13:03:40 CET  18-06-21         5         25.3750   \n",
       "\n",
       "   turbidity (NTU)  Dissolved Oxygen (g/ml)       PH  ammonia(g/ml)  \\\n",
       "0               41                   40.048  8.17490      780.03149   \n",
       "1               41                   40.048  8.13858        0.14989   \n",
       "2               41                   40.048  8.34740        0.24039   \n",
       "3               41                   40.048  8.17490        0.31723   \n",
       "4               31                   40.048  8.14766        1.02537   \n",
       "\n",
       "   nitrate(g/ml)  Fish_length(cm)  Fish_weight(g)  Unnamed: 11  Unnamed: 12  \\\n",
       "0           1218         6.772857        3.037143          NaN          NaN   \n",
       "1           1968         6.772857        3.037143          NaN          NaN   \n",
       "2           1879         6.772857        3.037143          NaN          NaN   \n",
       "3           1792         6.772857        3.037143          NaN          NaN   \n",
       "4           1934         6.772857        3.037143          NaN          NaN   \n",
       "\n",
       "  Unnamed: 13  \n",
       "0         NaN  \n",
       "1         NaN  \n",
       "2         NaN  \n",
       "3         NaN  \n",
       "4         NaN  "
      ]
     },
     "execution_count": 3,
     "metadata": {},
     "output_type": "execute_result"
    }
   ],
   "source": [
    "#importing and understanding the dataset\n",
    "df = pd.read_csv('IoTpond7.csv')\n",
    "df.head()"
   ]
  },
  {
   "cell_type": "code",
   "execution_count": 4,
   "metadata": {},
   "outputs": [
    {
     "data": {
      "text/plain": [
       "created_at                      0\n",
       "Date                            0\n",
       "entry_id                        0\n",
       "temperature(C)                  0\n",
       "turbidity (NTU)                 0\n",
       "Dissolved Oxygen (g/ml)         0\n",
       "PH                              0\n",
       "ammonia(g/ml)               94388\n",
       "nitrate(g/ml)                   0\n",
       "Fish_length(cm)                 0\n",
       "Fish_weight(g)                  0\n",
       "Unnamed: 11                279612\n",
       "Unnamed: 12                279606\n",
       "Unnamed: 13                279605\n",
       "dtype: int64"
      ]
     },
     "execution_count": 4,
     "metadata": {},
     "output_type": "execute_result"
    }
   ],
   "source": [
    "#checking for missing values\n",
    "df.isnull().sum()"
   ]
  },
  {
   "cell_type": "code",
   "execution_count": 5,
   "metadata": {},
   "outputs": [
    {
     "data": {
      "text/plain": [
       "created_at                  object\n",
       "Date                        object\n",
       "entry_id                     int64\n",
       "temperature(C)             float64\n",
       "turbidity (NTU)              int64\n",
       "Dissolved Oxygen (g/ml)    float64\n",
       "PH                         float64\n",
       "ammonia(g/ml)              float64\n",
       "nitrate(g/ml)                int64\n",
       "Fish_length(cm)            float64\n",
       "Fish_weight(g)             float64\n",
       "Unnamed: 11                float64\n",
       "Unnamed: 12                float64\n",
       "Unnamed: 13                 object\n",
       "dtype: object"
      ]
     },
     "execution_count": 5,
     "metadata": {},
     "output_type": "execute_result"
    }
   ],
   "source": [
    "#checking for the data types\n",
    "df.dtypes"
   ]
  },
  {
   "cell_type": "code",
   "execution_count": 6,
   "metadata": {},
   "outputs": [],
   "source": [
    "#drop Unnamed: 11 column\n",
    "df.drop('Unnamed: 11', axis=1, inplace=True)"
   ]
  },
  {
   "cell_type": "code",
   "execution_count": 7,
   "metadata": {},
   "outputs": [],
   "source": [
    "#drop Unnamed: 12 column\n",
    "df.drop('Unnamed: 12', axis=1, inplace=True)"
   ]
  },
  {
   "cell_type": "code",
   "execution_count": 8,
   "metadata": {},
   "outputs": [],
   "source": [
    "#drop Unnamed: 13 column\n",
    "df.drop('Unnamed: 13', axis=1, inplace=True)"
   ]
  },
  {
   "cell_type": "code",
   "execution_count": 9,
   "metadata": {},
   "outputs": [],
   "source": [
    "#drop Date column\n",
    "df.drop('Date', axis=1, inplace=True)"
   ]
  },
  {
   "cell_type": "code",
   "execution_count": 10,
   "metadata": {},
   "outputs": [],
   "source": [
    "#drop entry_id, turbidity (NTU), nitrate(g/ml) columns\n",
    "df.drop(['entry_id', 'turbidity (NTU)', 'nitrate(g/ml)'], axis=1, inplace=True)"
   ]
  },
  {
   "cell_type": "code",
   "execution_count": 11,
   "metadata": {},
   "outputs": [],
   "source": [
    "#removing all null values\n",
    "df.dropna(inplace=True)"
   ]
  },
  {
   "cell_type": "code",
   "execution_count": 12,
   "metadata": {},
   "outputs": [
    {
     "data": {
      "text/html": [
       "<div>\n",
       "<style scoped>\n",
       "    .dataframe tbody tr th:only-of-type {\n",
       "        vertical-align: middle;\n",
       "    }\n",
       "\n",
       "    .dataframe tbody tr th {\n",
       "        vertical-align: top;\n",
       "    }\n",
       "\n",
       "    .dataframe thead th {\n",
       "        text-align: right;\n",
       "    }\n",
       "</style>\n",
       "<table border=\"1\" class=\"dataframe\">\n",
       "  <thead>\n",
       "    <tr style=\"text-align: right;\">\n",
       "      <th></th>\n",
       "      <th>created_at</th>\n",
       "      <th>temperature(C)</th>\n",
       "      <th>Dissolved Oxygen (g/ml)</th>\n",
       "      <th>PH</th>\n",
       "      <th>ammonia(g/ml)</th>\n",
       "      <th>Fish_length(cm)</th>\n",
       "      <th>Fish_weight(g)</th>\n",
       "    </tr>\n",
       "  </thead>\n",
       "  <tbody>\n",
       "    <tr>\n",
       "      <th>0</th>\n",
       "      <td>2021-06-18 13:02:10 CET</td>\n",
       "      <td>25.3750</td>\n",
       "      <td>40.048</td>\n",
       "      <td>8.17490</td>\n",
       "      <td>780.03149</td>\n",
       "      <td>6.772857</td>\n",
       "      <td>3.037143</td>\n",
       "    </tr>\n",
       "    <tr>\n",
       "      <th>1</th>\n",
       "      <td>2021-06-18 13:02:30 CET</td>\n",
       "      <td>25.3750</td>\n",
       "      <td>40.048</td>\n",
       "      <td>8.13858</td>\n",
       "      <td>0.14989</td>\n",
       "      <td>6.772857</td>\n",
       "      <td>3.037143</td>\n",
       "    </tr>\n",
       "    <tr>\n",
       "      <th>2</th>\n",
       "      <td>2021-06-18 13:02:50 CET</td>\n",
       "      <td>25.3125</td>\n",
       "      <td>40.048</td>\n",
       "      <td>8.34740</td>\n",
       "      <td>0.24039</td>\n",
       "      <td>6.772857</td>\n",
       "      <td>3.037143</td>\n",
       "    </tr>\n",
       "    <tr>\n",
       "      <th>3</th>\n",
       "      <td>2021-06-18 13:03:10 CET</td>\n",
       "      <td>25.3125</td>\n",
       "      <td>40.048</td>\n",
       "      <td>8.17490</td>\n",
       "      <td>0.31723</td>\n",
       "      <td>6.772857</td>\n",
       "      <td>3.037143</td>\n",
       "    </tr>\n",
       "    <tr>\n",
       "      <th>4</th>\n",
       "      <td>2021-06-18 13:03:40 CET</td>\n",
       "      <td>25.3750</td>\n",
       "      <td>40.048</td>\n",
       "      <td>8.14766</td>\n",
       "      <td>1.02537</td>\n",
       "      <td>6.772857</td>\n",
       "      <td>3.037143</td>\n",
       "    </tr>\n",
       "  </tbody>\n",
       "</table>\n",
       "</div>"
      ],
      "text/plain": [
       "                created_at  temperature(C)  Dissolved Oxygen (g/ml)       PH  \\\n",
       "0  2021-06-18 13:02:10 CET         25.3750                   40.048  8.17490   \n",
       "1  2021-06-18 13:02:30 CET         25.3750                   40.048  8.13858   \n",
       "2  2021-06-18 13:02:50 CET         25.3125                   40.048  8.34740   \n",
       "3  2021-06-18 13:03:10 CET         25.3125                   40.048  8.17490   \n",
       "4  2021-06-18 13:03:40 CET         25.3750                   40.048  8.14766   \n",
       "\n",
       "   ammonia(g/ml)  Fish_length(cm)  Fish_weight(g)  \n",
       "0      780.03149         6.772857        3.037143  \n",
       "1        0.14989         6.772857        3.037143  \n",
       "2        0.24039         6.772857        3.037143  \n",
       "3        0.31723         6.772857        3.037143  \n",
       "4        1.02537         6.772857        3.037143  "
      ]
     },
     "execution_count": 12,
     "metadata": {},
     "output_type": "execute_result"
    }
   ],
   "source": [
    "#displaying the dataset\n",
    "df.head()"
   ]
  },
  {
   "cell_type": "code",
   "execution_count": 13,
   "metadata": {},
   "outputs": [
    {
     "data": {
      "text/plain": [
       "<AxesSubplot:>"
      ]
     },
     "execution_count": 13,
     "metadata": {},
     "output_type": "execute_result"
    },
    {
     "data": {
      "image/png": "[encoded data removed]",
      "text/plain": [
       "<Figure size 432x288 with 1 Axes>"
      ]
     },
     "metadata": {
      "needs_background": "light"
     },
     "output_type": "display_data"
    }
   ],
   "source": [
    "#plotting the dataset\n",
    "df.plot()"
   ]
  },
  {
   "cell_type": "code",
   "execution_count": 14,
   "metadata": {},
   "outputs": [
    {
     "data": {
      "image/png": "[encoded data removed]",
      "text/plain": [
       "<Figure size 360x360 with 2 Axes>"
      ]
     },
     "metadata": {
      "needs_background": "light"
     },
     "output_type": "display_data"
    }
   ],
   "source": [
    "#creating a heatmap to show the correlation between the features\n",
    "plt.figure(figsize=(5, 5))\n",
    "cor = df.corr()\n",
    "sns.heatmap(cor, annot=True, cmap=plt.cm.Reds)\n",
    "plt.show()"
   ]
  },
  {
   "cell_type": "code",
   "execution_count": 15,
   "metadata": {},
   "outputs": [
    {
     "data": {
      "image/png": "[encoded data removed]",
      "text/plain": [
       "<Figure size 360x360 with 1 Axes>"
      ]
     },
     "metadata": {
      "needs_background": "light"
     },
     "output_type": "display_data"
    }
   ],
   "source": [
    "#display graph fish length vs fish weight\n",
    "plt.figure(figsize=(5, 5))\n",
    "plt.scatter(df['Fish_length(cm)'], df['Fish_weight(g)'])\n",
    "plt.xlabel('Fish_length(cm)')\n",
    "plt.ylabel('Fish_weight(g)')\n",
    "plt.show()"
   ]
  },
  {
   "cell_type": "code",
   "execution_count": 16,
   "metadata": {},
   "outputs": [
    {
     "data": {
      "image/png": "[encoded data removed]",
      "text/plain": [
       "<Figure size 360x360 with 1 Axes>"
      ]
     },
     "metadata": {
      "needs_background": "light"
     },
     "output_type": "display_data"
    }
   ],
   "source": [
    "#display grap ph vs Fish_Length(cm)\n",
    "plt.figure(figsize=(5, 5))\n",
    "plt.scatter(df['PH'], df['Fish_length(cm)'])\n",
    "plt.xlabel('PH')\n",
    "plt.ylabel('Fish_length(cm)')\n",
    "plt.show()"
   ]
  },
  {
   "cell_type": "code",
   "execution_count": 17,
   "metadata": {},
   "outputs": [
    {
     "data": {
      "image/png": "[encoded data removed]",
      "text/plain": [
       "<Figure size 360x360 with 1 Axes>"
      ]
     },
     "metadata": {
      "needs_background": "light"
     },
     "output_type": "display_data"
    }
   ],
   "source": [
    "#dispaly graph ph vs fish weight\n",
    "plt.figure(figsize=(5, 5))\n",
    "plt.scatter(df['PH'], df['Fish_weight(g)'])\n",
    "plt.xlabel('PH')\n",
    "plt.ylabel('Fish_weight(g)')\n",
    "plt.show()"
   ]
  },
  {
   "cell_type": "code",
   "execution_count": 18,
   "metadata": {},
   "outputs": [
    {
     "data": {
      "image/png": "[encoded data removed]",
      "text/plain": [
       "<Figure size 360x360 with 1 Axes>"
      ]
     },
     "metadata": {
      "needs_background": "light"
     },
     "output_type": "display_data"
    }
   ],
   "source": [
    "#display graph temperature vs fish length\n",
    "plt.figure(figsize=(5, 5))\n",
    "plt.scatter(df['temperature(C)'], df['Fish_length(cm)'])\n",
    "plt.xlabel('temperature(C)')\n",
    "plt.ylabel('Fish_length(cm)')\n",
    "plt.show()"
   ]
  },
  {
   "cell_type": "code",
   "execution_count": 19,
   "metadata": {},
   "outputs": [
    {
     "data": {
      "image/png": "[encoded data removed]",
      "text/plain": [
       "<Figure size 360x360 with 1 Axes>"
      ]
     },
     "metadata": {
      "needs_background": "light"
     },
     "output_type": "display_data"
    }
   ],
   "source": [
    "#time series plot with fish weight\n",
    "plt.figure(figsize=(5, 5))\n",
    "plt.plot(df['Fish_weight(g)'])\n",
    "plt.xlabel('time')\n",
    "plt.ylabel('Fish_weight(g)')\n",
    "plt.show()"
   ]
  },
  {
   "cell_type": "code",
   "execution_count": 20,
   "metadata": {},
   "outputs": [
    {
     "data": {
      "image/png": "[encoded data removed]",
      "text/plain": [
       "<Figure size 360x360 with 1 Axes>"
      ]
     },
     "metadata": {
      "needs_background": "light"
     },
     "output_type": "display_data"
    }
   ],
   "source": [
    "#time series plot with fish length\n",
    "plt.figure(figsize=(5, 5))\n",
    "plt.plot(df['Fish_length(cm)'])\n",
    "plt.xlabel('time')\n",
    "plt.ylabel('Fish_length(cm)')\n",
    "plt.show()"
   ]
  },
  {
   "cell_type": "code",
   "execution_count": 21,
   "metadata": {},
   "outputs": [
    {
     "data": {
      "text/plain": [
       "34.3"
      ]
     },
     "execution_count": 21,
     "metadata": {},
     "output_type": "execute_result"
    }
   ],
   "source": [
    "#detirmane the max Fish_Length(cm)\n",
    "df['Fish_length(cm)'].max()"
   ]
  },
  {
   "cell_type": "code",
   "execution_count": 22,
   "metadata": {},
   "outputs": [
    {
     "data": {
      "text/plain": [
       "6.772857143"
      ]
     },
     "execution_count": 22,
     "metadata": {},
     "output_type": "execute_result"
    }
   ],
   "source": [
    "#detirmane the min Fish_Length(cm)\n",
    "df['Fish_length(cm)'].min()"
   ]
  },
  {
   "cell_type": "code",
   "execution_count": 23,
   "metadata": {},
   "outputs": [
    {
     "data": {
      "text/plain": [
       "308.7714286"
      ]
     },
     "execution_count": 23,
     "metadata": {},
     "output_type": "execute_result"
    }
   ],
   "source": [
    "#detirmane the max Fish_Weight(g)\n",
    "df['Fish_weight(g)'].max()"
   ]
  },
  {
   "cell_type": "code",
   "execution_count": 24,
   "metadata": {},
   "outputs": [
    {
     "data": {
      "text/plain": [
       "3.037142857"
      ]
     },
     "execution_count": 24,
     "metadata": {},
     "output_type": "execute_result"
    }
   ],
   "source": [
    "#detirmane the min Fish_Weight(g)\n",
    "df['Fish_weight(g)'].min()"
   ]
  },
  {
   "cell_type": "code",
   "execution_count": 25,
   "metadata": {},
   "outputs": [
    {
     "data": {
      "text/plain": [
       "created_at                  object\n",
       "temperature(C)             float64\n",
       "Dissolved Oxygen (g/ml)    float64\n",
       "PH                         float64\n",
       "ammonia(g/ml)              float64\n",
       "Fish_length(cm)            float64\n",
       "Fish_weight(g)             float64\n",
       "dtype: object"
      ]
     },
     "execution_count": 25,
     "metadata": {},
     "output_type": "execute_result"
    }
   ],
   "source": [
    "#display data types\n",
    "df.dtypes"
   ]
  },
  {
   "cell_type": "code",
   "execution_count": 26,
   "metadata": {},
   "outputs": [],
   "source": [
    "#drop created_at column\n",
    "df.drop('created_at', axis=1, inplace=True)"
   ]
  },
  {
   "cell_type": "code",
   "execution_count": 27,
   "metadata": {},
   "outputs": [
    {
     "data": {
      "text/plain": [
       "temperature(C)             float64\n",
       "Dissolved Oxygen (g/ml)    float64\n",
       "PH                         float64\n",
       "ammonia(g/ml)              float64\n",
       "Fish_length(cm)            float64\n",
       "Fish_weight(g)             float64\n",
       "dtype: object"
      ]
     },
     "execution_count": 27,
     "metadata": {},
     "output_type": "execute_result"
    }
   ],
   "source": [
    "#display data types\n",
    "df.dtypes"
   ]
  },
  {
   "cell_type": "code",
   "execution_count": 28,
   "metadata": {},
   "outputs": [],
   "source": [
    "#drop all NaN values, infinte values and values to big for float32\n",
    "df = df.replace([np.inf, -np.inf], np.nan)\n",
    "df = df.dropna()\n",
    "df = df[df['Fish_length(cm)'] < 100]\n",
    "df = df[df['Fish_weight(g)'] < 10000]\n",
    "df = df[df['PH'] < 14]\n",
    "df = df[df['temperature(C)'] < 50]"
   ]
  },
  {
   "cell_type": "code",
   "execution_count": 29,
   "metadata": {},
   "outputs": [],
   "source": [
    "#building the model using random forest regressor\n",
    "from sklearn.ensemble import RandomForestRegressor\n",
    "from sklearn.model_selection import train_test_split\n",
    "from sklearn.metrics import mean_squared_error, r2_score"
   ]
  },
  {
   "cell_type": "code",
   "execution_count": 30,
   "metadata": {},
   "outputs": [],
   "source": [
    "#splitting the dataset into train and test\n",
    "X = df.drop(['Fish_length(cm)', 'Fish_weight(g)'], axis=1)\n",
    "y = df['Fish_length(cm)']\n",
    "X_train, X_test, y_train, y_test = train_test_split(X, y, test_size=0.2, random_state=42)"
   ]
  },
  {
   "cell_type": "code",
   "execution_count": 31,
   "metadata": {},
   "outputs": [
    {
     "data": {
      "text/plain": [
       "RandomForestRegressor(random_state=42)"
      ]
     },
     "execution_count": 31,
     "metadata": {},
     "output_type": "execute_result"
    }
   ],
   "source": [
    "#fitting the model\n",
    "model = RandomForestRegressor(n_estimators=100, random_state=42)\n",
    "model.fit(X_train, y_train)"
   ]
  },
  {
   "cell_type": "code",
   "execution_count": 32,
   "metadata": {},
   "outputs": [],
   "source": [
    "#predicting the model\n",
    "y_pred = model.predict(X_test)"
   ]
  },
  {
   "cell_type": "code",
   "execution_count": 33,
   "metadata": {},
   "outputs": [
    {
     "name": "stdout",
     "output_type": "stream",
     "text": [
      "Mean squared error: 0.19\n",
      "Coefficient of determination: 1.00\n"
     ]
    }
   ],
   "source": [
    "#displaying the results\n",
    "print('Mean squared error: %.2f'\n",
    "        % mean_squared_error(y_test, y_pred))\n",
    "print('Coefficient of determination: %.2f'\n",
    "        % r2_score(y_test, y_pred))"
   ]
  },
  {
   "cell_type": "code",
   "execution_count": 34,
   "metadata": {},
   "outputs": [
    {
     "name": "stdout",
     "output_type": "stream",
     "text": [
      "Accuracy of random forest regressor on test set: 1.00\n"
     ]
    }
   ],
   "source": [
    "#show model accuracy\n",
    "print('Accuracy of random forest regressor on test set: {:.2f}'.format(model.score(X_test, y_test)))"
   ]
  },
  {
   "cell_type": "code",
   "execution_count": 35,
   "metadata": {},
   "outputs": [
    {
     "data": {
      "image/png": "[encoded data removed]",
      "text/plain": [
       "<Figure size 360x360 with 1 Axes>"
      ]
     },
     "metadata": {
      "needs_background": "light"
     },
     "output_type": "display_data"
    }
   ],
   "source": [
    "#plotting the results\n",
    "plt.figure(figsize=(5, 5))\n",
    "plt.scatter(y_test, y_pred)\n",
    "plt.xlabel('True Values')\n",
    "plt.ylabel('Predictions')\n",
    "plt.show()"
   ]
  },
  {
   "cell_type": "code",
   "execution_count": 36,
   "metadata": {},
   "outputs": [
    {
     "name": "stdout",
     "output_type": "stream",
     "text": [
      "Mean Absolute Error: 0.14 cm.\n"
     ]
    }
   ],
   "source": [
    "# Calculate the absolute errors\n",
    "errors = abs(y_pred - y_test)\n",
    "# Print out the mean absolute error (mae)\n",
    "print('Mean Absolute Error:', round(np.mean(errors), 2), 'cm.')"
   ]
  },
  {
   "cell_type": "code",
   "execution_count": 37,
   "metadata": {},
   "outputs": [
    {
     "name": "stdout",
     "output_type": "stream",
     "text": [
      "Accuracy: 99.42 %.\n"
     ]
    }
   ],
   "source": [
    "# Calculate mean absolute percentage error (MAPE)\n",
    "mape = 100 * (errors / y_test)\n",
    "# Calculate and display accuracy\n",
    "accuracy = 100 - np.mean(mape)\n",
    "print('Accuracy:', round(accuracy, 2), '%.')"
   ]
  },
  {
   "cell_type": "code",
   "execution_count": 38,
   "metadata": {},
   "outputs": [
    {
     "data": {
      "text/html": [
       "<div>\n",
       "<style scoped>\n",
       "    .dataframe tbody tr th:only-of-type {\n",
       "        vertical-align: middle;\n",
       "    }\n",
       "\n",
       "    .dataframe tbody tr th {\n",
       "        vertical-align: top;\n",
       "    }\n",
       "\n",
       "    .dataframe thead th {\n",
       "        text-align: right;\n",
       "    }\n",
       "</style>\n",
       "<table border=\"1\" class=\"dataframe\">\n",
       "  <thead>\n",
       "    <tr style=\"text-align: right;\">\n",
       "      <th></th>\n",
       "      <th>Actual</th>\n",
       "      <th>Predicted</th>\n",
       "    </tr>\n",
       "  </thead>\n",
       "  <tbody>\n",
       "    <tr>\n",
       "      <th>32008</th>\n",
       "      <td>12.652857</td>\n",
       "      <td>12.652857</td>\n",
       "    </tr>\n",
       "    <tr>\n",
       "      <th>104876</th>\n",
       "      <td>16.767143</td>\n",
       "      <td>16.767143</td>\n",
       "    </tr>\n",
       "    <tr>\n",
       "      <th>155859</th>\n",
       "      <td>23.788571</td>\n",
       "      <td>23.888486</td>\n",
       "    </tr>\n",
       "    <tr>\n",
       "      <th>164011</th>\n",
       "      <td>28.780000</td>\n",
       "      <td>28.738200</td>\n",
       "    </tr>\n",
       "    <tr>\n",
       "      <th>87568</th>\n",
       "      <td>16.645714</td>\n",
       "      <td>15.528571</td>\n",
       "    </tr>\n",
       "    <tr>\n",
       "      <th>...</th>\n",
       "      <td>...</td>\n",
       "      <td>...</td>\n",
       "    </tr>\n",
       "    <tr>\n",
       "      <th>106687</th>\n",
       "      <td>16.767143</td>\n",
       "      <td>16.782686</td>\n",
       "    </tr>\n",
       "    <tr>\n",
       "      <th>138921</th>\n",
       "      <td>21.695714</td>\n",
       "      <td>21.647157</td>\n",
       "    </tr>\n",
       "    <tr>\n",
       "      <th>32296</th>\n",
       "      <td>12.652857</td>\n",
       "      <td>12.652857</td>\n",
       "    </tr>\n",
       "    <tr>\n",
       "      <th>155367</th>\n",
       "      <td>23.788571</td>\n",
       "      <td>24.222814</td>\n",
       "    </tr>\n",
       "    <tr>\n",
       "      <th>118276</th>\n",
       "      <td>17.281429</td>\n",
       "      <td>18.031857</td>\n",
       "    </tr>\n",
       "  </tbody>\n",
       "</table>\n",
       "<p>18054 rows × 2 columns</p>\n",
       "</div>"
      ],
      "text/plain": [
       "           Actual  Predicted\n",
       "32008   12.652857  12.652857\n",
       "104876  16.767143  16.767143\n",
       "155859  23.788571  23.888486\n",
       "164011  28.780000  28.738200\n",
       "87568   16.645714  15.528571\n",
       "...           ...        ...\n",
       "106687  16.767143  16.782686\n",
       "138921  21.695714  21.647157\n",
       "32296   12.652857  12.652857\n",
       "155367  23.788571  24.222814\n",
       "118276  17.281429  18.031857\n",
       "\n",
       "[18054 rows x 2 columns]"
      ]
     },
     "execution_count": 38,
     "metadata": {},
     "output_type": "execute_result"
    }
   ],
   "source": [
    "df=pd.DataFrame({'Actual':y_test, 'Predicted':y_pred})\n",
    "df"
   ]
  },
  {
   "cell_type": "code",
   "execution_count": 39,
   "metadata": {},
   "outputs": [
    {
     "name": "stderr",
     "output_type": "stream",
     "text": [
      "c:\\Users\\chris\\anaconda3\\lib\\site-packages\\seaborn\\distributions.py:2619: FutureWarning: `distplot` is a deprecated function and will be removed in a future version. Please adapt your code to use either `displot` (a figure-level function with similar flexibility) or `kdeplot` (an axes-level function for kernel density plots).\n",
      "  warnings.warn(msg, FutureWarning)\n",
      "c:\\Users\\chris\\anaconda3\\lib\\site-packages\\seaborn\\distributions.py:2619: FutureWarning: `distplot` is a deprecated function and will be removed in a future version. Please adapt your code to use either `displot` (a figure-level function with similar flexibility) or `kdeplot` (an axes-level function for kernel density plots).\n",
      "  warnings.warn(msg, FutureWarning)\n"
     ]
    },
    {
     "data": {
      "image/png": "[encoded data removed]",
      "text/plain": [
       "<Figure size 360x504 with 1 Axes>"
      ]
     },
     "metadata": {
      "needs_background": "light"
     },
     "output_type": "display_data"
    }
   ],
   "source": [
    "#plot the difference between the actual and predicted values\n",
    "import seaborn as sns\n",
    "plt.figure(figsize=(5, 7))\n",
    "\n",
    "ax = sns.distplot(y, hist=False, color=\"r\", label=\"Actual Value\")\n",
    "sns.distplot(y_pred, hist=False, color=\"b\", label=\"Fitted Values\" , ax=ax)\n",
    "\n",
    "plt.title('Actual vs Fitted Values for Price')\n",
    "\n",
    "plt.show()\n",
    "plt.close()"
   ]
  },
  {
   "cell_type": "code",
   "execution_count": 43,
   "metadata": {},
   "outputs": [],
   "source": [
    "\n",
    "from sklearn.preprocessing import StandardScaler\n",
    "sc = StandardScaler()"
   ]
  },
  {
   "cell_type": "code",
   "execution_count": 50,
   "metadata": {},
   "outputs": [
    {
     "name": "stderr",
     "output_type": "stream",
     "text": [
      "c:\\Users\\chris\\anaconda3\\lib\\site-packages\\sklearn\\base.py:450: UserWarning: X does not have valid feature names, but RandomForestRegressor was fitted with feature names\n",
      "  warnings.warn(\n"
     ]
    }
   ],
   "source": [
    "data = [25,41,8.2, 4]\n",
    "newPred = model.predict(sc.fit_transform([data]))"
   ]
  },
  {
   "cell_type": "code",
   "execution_count": 51,
   "metadata": {},
   "outputs": [
    {
     "data": {
      "text/plain": [
       "array([33.1048])"
      ]
     },
     "execution_count": 51,
     "metadata": {},
     "output_type": "execute_result"
    }
   ],
   "source": [
    "newPred"
   ]
  }
 ],
 "metadata": {
  "kernelspec": {
   "display_name": "Python 3.9.12 ('base')",
   "language": "python",
   "name": "python3"
  },
  "language_info": {
   "codemirror_mode": {
    "name": "ipython",
    "version": 3
   },
   "file_extension": ".py",
   "mimetype": "text/x-python",
   "name": "python",
   "nbconvert_exporter": "python",
   "pygments_lexer": "ipython3",
   "version": "3.9.12"
  },
  "orig_nbformat": 4,
  "vscode": {
   "interpreter": {
    "hash": "fb833273add3e7c60eb33c0608260b79a61e072ade6f02cc8d07b0a26eef8ab8"
   }
  }
 },
 "nbformat": 4,
 "nbformat_minor": 2
}
